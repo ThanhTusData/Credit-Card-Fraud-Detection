{
 "cells": [
  {
   "cell_type": "code",
   "execution_count": 2,
   "id": "c00ddc20-509c-4525-be49-545991f412e7",
   "metadata": {},
   "outputs": [
    {
     "name": "stdout",
     "output_type": "stream",
     "text": [
      "<class 'pandas.core.frame.DataFrame'>\n",
      "RangeIndex: 307511 entries, 0 to 307510\n",
      "Data columns (total 9 columns):\n",
      " #   Column                   Non-Null Count   Dtype  \n",
      "---  ------                   --------------   -----  \n",
      " 0   SK_ID_CURR               307511 non-null  int64  \n",
      " 1   TARGET                   307511 non-null  int64  \n",
      " 2   AMT_INCOME_TOTAL         307511 non-null  float64\n",
      " 3   AMT_CREDIT               307511 non-null  float64\n",
      " 4   AMT_ANNUITY              307511 non-null  float64\n",
      " 5   AMT_GOODS_PRICE          307511 non-null  float64\n",
      " 6   NAME_INCOME_TYPE         307511 non-null  object \n",
      " 7   HOUR_APPR_PROCESS_START  307511 non-null  int64  \n",
      " 8   ORGANIZATION_TYPE        307511 non-null  object \n",
      "dtypes: float64(4), int64(3), object(2)\n",
      "memory usage: 21.1+ MB\n"
     ]
    }
   ],
   "source": [
    "import pandas as pd\n",
    "df=pd.read_csv('Application.csv')\n",
    "df.info()"
   ]
  },
  {
   "cell_type": "code",
   "execution_count": 4,
   "id": "75c4435b-e5ef-46b0-8466-8c77fa4fa2d5",
   "metadata": {},
   "outputs": [],
   "source": [
    "df.rename(columns={\n",
    "    'SK_ID_CURR': 'Customer_ID',\n",
    "    'TARGET': 'Default_Status',\n",
    "    'AMT_INCOME_TOTAL': 'Total_Income_Amount',\n",
    "    'AMT_CREDIT': 'Total_Credit_Amount',\n",
    "    'AMT_ANNUITY': 'Annuity_Amount',\n",
    "    'AMT_GOODS_PRICE': 'Goods_Price_Amount',\n",
    "    'NAME_INCOME_TYPE': 'Income_Type',\n",
    "    'HOUR_APPR_PROCESS_START': 'Application_Hour',\n",
    "    'ORGANIZATION_TYPE': 'Organization_Type'\n",
    "}, inplace=True)"
   ]
  },
  {
   "cell_type": "code",
   "execution_count": 6,
   "id": "d2feaf37-79e8-46b2-809b-00e04456fc67",
   "metadata": {},
   "outputs": [],
   "source": [
    "df.to_csv('Application.csv', index=False)"
   ]
  },
  {
   "cell_type": "code",
   "execution_count": null,
   "id": "148fea64-1f45-499c-9346-17d81f726165",
   "metadata": {},
   "outputs": [],
   "source": []
  }
 ],
 "metadata": {
  "kernelspec": {
   "display_name": "Python 3 (ipykernel)",
   "language": "python",
   "name": "python3"
  },
  "language_info": {
   "codemirror_mode": {
    "name": "ipython",
    "version": 3
   },
   "file_extension": ".py",
   "mimetype": "text/x-python",
   "name": "python",
   "nbconvert_exporter": "python",
   "pygments_lexer": "ipython3",
   "version": "3.12.4"
  }
 },
 "nbformat": 4,
 "nbformat_minor": 5
}
